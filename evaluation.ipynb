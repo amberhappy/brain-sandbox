{
 "cells": [
  {
   "cell_type": "code",
   "execution_count": 7,
   "metadata": {},
   "outputs": [],
   "source": [
    "import os\n",
    "import numpy as np\n",
    "\n",
    "from keras.models import load_model\n",
    "from keras import backend as K\n",
    "\n",
    "from network import extractor, generator, model, utils"
   ]
  },
  {
   "cell_type": "code",
   "execution_count": 8,
   "metadata": {},
   "outputs": [],
   "source": [
    "class_weights = [0.9939077556150256, 0.006092244384974352]\n",
    "\n",
    "def dice_coef(y_true, y_pred, smooth=1):\n",
    "    intersection = K.sum(K.abs(y_true * y_pred), axis=-1)\n",
    "    return (2. * intersection + smooth) / (K.sum(K.square(y_true), -1) + K.sum(K.square(y_pred), -1) + smooth)\n",
    "\n",
    "\n",
    "def weighted_dice_coefficient(y_true, y_pred):\n",
    "    result = 0.0\n",
    "    for i in range(len(class_weights)):\n",
    "        wght = 1 - class_weights[i]\n",
    "        y_true_f = K.flatten(y_true[:, :, :, i])\n",
    "        y_pred_f = K.flatten(y_pred[:, :, :, i])\n",
    "        intersection = K.sum(y_true_f * y_pred_f)\n",
    "        result += ((2 * intersection + 1) / (K.sum(y_true_f) + K.sum(y_pred_f) + 1)) * wght\n",
    "        # result += (2.0 * K.sum(wght * intersection) + 1) / (K.sum(wght * y_true_f) + K.sum(wght * y_pred_f) + 1) \n",
    "\n",
    "    dice_error = result\n",
    "    return dice_error\n",
    "\n",
    "\n",
    "def weighted_dice_coefficient_loss(y_true, y_pred):\n",
    "    return -weighted_dice_coefficient(y_true, y_pred)"
   ]
  },
  {
   "cell_type": "code",
   "execution_count": 15,
   "metadata": {},
   "outputs": [],
   "source": [
    "model = load_model('../models/wmh.h5', custom_objects={\n",
    "    'dice_coef': dice_coef,\n",
    "    'weighted_dice_coefficient': weighted_dice_coefficient,\n",
    "    'weighted_dice_coefficient_loss': weighted_dice_coefficient_loss\n",
    "})"
   ]
  },
  {
   "cell_type": "code",
   "execution_count": 34,
   "metadata": {},
   "outputs": [],
   "source": [
    "_, _, _, _, x_test, y_test = utils.create_paths(\n",
    "  'whi_mat_hyp', '2d', 'small', 'fl'\n",
    ")\n",
    "\n",
    "test_generator = generator.DataSequence(\n",
    "  x_test, y_test, '2d', 64, shuffle=False\n",
    ")\n",
    "\n",
    "x, y = utils.extract_generator(test_generator)"
   ]
  },
  {
   "cell_type": "code",
   "execution_count": 42,
   "metadata": {},
   "outputs": [],
   "source": [
    "y_prediction = model.predict(np.array(x))"
   ]
  },
  {
   "cell_type": "code",
   "execution_count": 49,
   "metadata": {},
   "outputs": [
    {
     "name": "stdout",
     "output_type": "stream",
     "text": [
      "prec:  0.757 , rec:  0.3372 , f1:  0.4665\n"
     ]
    }
   ],
   "source": [
    "def decode_prediction(prediction):\n",
    "    '''Change prediction to mask img'''\n",
    "    img = prediction.argmax(axis=-1)\n",
    "    img[img == 1] = 1.\n",
    "    img[img == 0] = 0.\n",
    "    return img.astype(np.float32)\n",
    "\n",
    "y_pred = np.array([decode_prediction(y) for y in y_prediction])\n",
    "\n",
    "x, y, y_pred = utils.squeeze_all(x, y, y_pred)\n",
    "\n",
    "tp, fn, fp, tn = utils.calc_conf_matrix(y, y_pred)\n",
    "\n",
    "prec, rec, f1 = utils.calc_metrics(y, y_pred)\n",
    "\n",
    "print('prec: ', round(prec, 4), ', rec: ', round(rec, 4), ', f1: ', round(f1, 4))"
   ]
  }
 ],
 "metadata": {
  "kernelspec": {
   "display_name": "Python 3",
   "language": "python",
   "name": "python3"
  },
  "language_info": {
   "codemirror_mode": {
    "name": "ipython",
    "version": 3
   },
   "file_extension": ".py",
   "mimetype": "text/x-python",
   "name": "python",
   "nbconvert_exporter": "python",
   "pygments_lexer": "ipython3",
   "version": "3.6.8"
  }
 },
 "nbformat": 4,
 "nbformat_minor": 2
}
